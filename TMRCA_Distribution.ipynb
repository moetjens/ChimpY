{
 "cells": [
  {
   "cell_type": "code",
   "execution_count": 2,
   "metadata": {
    "collapsed": false
   },
   "outputs": [],
   "source": [
    "%matplotlib inline\n",
    "import matplotlib\n",
    "import matplotlib.pyplot as plt\n",
    "matplotlib.style.use('ggplot')\n",
    "import numpy as np\n",
    "import pandas as pd\n",
    "import scipy.misc\n",
    "import pickle"
   ]
  },
  {
   "cell_type": "code",
   "execution_count": 3,
   "metadata": {
    "collapsed": false,
    "scrolled": true
   },
   "outputs": [],
   "source": [
    "#Returns TMRCA distribution after 100 generations, given a sample Ne and generation time.  \n",
    "#Scaled in kya\n",
    "\n",
    "def DistTMRCA(n, Ne, gen,nsamps=100):\n",
    "    tmpSum = 0\n",
    "    myData = []\n",
    "    for j in range(0,n):\n",
    "        tmpSum = 0\n",
    "        for i in range(2,nsamps+1):\n",
    "            rate = scipy.misc.comb(i,2)\n",
    "            dist = np.random.exponential(size = 1, scale = 1/rate)\n",
    "            tmpSum = tmpSum+dist*Ne*gen/1000\n",
    "        tmpSum =float(tmpSum)\n",
    "        myData.append(tmpSum)\n",
    "    return myData\n",
    "\n",
    "\n"
   ]
  },
  {
   "cell_type": "code",
   "execution_count": 6,
   "metadata": {
    "collapsed": false
   },
   "outputs": [],
   "source": [
    "#TMRCA distriubtion generation commented out here:  Load TMRCA distributions with Pickle below\n",
    "\n",
    "Mbuti = DistTMRCA(100000, 3700, 26.5)\n",
    "Baka  = DistTMRCA(100000, 1800, 31.5)\n",
    "\n",
    "pickle.dump(Mbuti, open(\"Mbuti.100K.save\",\"wb\"))\n",
    "pickle.dump(Baka, open(\"Baka.100K.save\",\"wb\"))\n",
    "\n",
    "#ChimpAuto_r1 = pickle.load( open( \"/Users/moetjens/Dropbox/KiddLab-Matt/Chimp Manuscript/TMRCA Sampling/ChimpAuto_r1.100K.save\", \"rb\" ))\n"
   ]
  },
  {
   "cell_type": "code",
   "execution_count": 4,
   "metadata": {
    "collapsed": false
   },
   "outputs": [
    {
     "data": {
      "text/plain": [
       "<matplotlib.text.Text at 0x107c539d0>"
      ]
     },
     "execution_count": 4,
     "metadata": {},
     "output_type": "execute_result"
    },
    {
     "data": {
      "image/png": "[encoded data removed]",
      "text/plain": [
       "<matplotlib.figure.Figure at 0x1043d1f90>"
      ]
     },
     "metadata": {},
     "output_type": "display_data"
    }
   ],
   "source": [
    "#histogram w/ Pandas\n",
    "\n",
    "myTicksX = range(0, 1200, 100)\n",
    "myLimX = [0,800] \n",
    "\n",
    "merged = pd.DataFrame({'Mbuti': Mbuti, 'Baka': Baka})\n",
    "myPlot = merged.plot(kind='hist' , xticks= myTicksX, xlim =myLimX ,alpha=0.75, bins=100, normed = True)\n",
    "\n",
    "myPlot.set_xlabel('Count')\n",
    "myPlot.set_xlabel('TMRCA (kya)')\n",
    "myPlot.set_ylabel('Probability Density')"
   ]
  },
  {
   "cell_type": "code",
   "execution_count": 11,
   "metadata": {
    "collapsed": false
   },
   "outputs": [],
   "source": [
    "#Returns effective Y chromosomes and Mito (in that order)\n",
    "\n",
    "def effectiveChroms(R, Nauto):\n",
    "    Nf = Nauto*(1 + R)/(4*R)\n",
    "    Nm = Nf*R\n",
    "    NchrY = Nm/2\n",
    "    Nmito = Nf/2\n",
    "    return NchrY,Nmito\n",
    "\n",
    "#ex.\n",
    "#chrY, mito  = effectiveChroms(0.5,56300) \n"
   ]
  },
  {
   "cell_type": "code",
   "execution_count": 20,
   "metadata": {
    "collapsed": false
   },
   "outputs": [],
   "source": [
    "#Some chimpanzee population test simulations\n",
    "#Nauto is estimated from the PSMC analysis (Table S5), the sum of the Nes of the 4 subspecies(mu = 1e-9, yrs/gen = 25)\n",
    "#multipied by 2, since there are two genomes for each individual\n",
    "#don't think you sould mulitple by 2.  want y/nauto to be 1/4 when it is setup\n",
    "#see:\n",
    "#print effectiveChroms(1,1000)\n",
    "\n",
    "#TMRCA distriubtion generation commented out here:  Load TMRCA distributions with Pickle below\n",
    "\n",
    "Nauto = 56300 #approx size at last split\n",
    "NchrY, Nmito = effectiveChroms(1, Nauto) \n",
    "\n",
    "#ChimpAuto_r1 = DistTMRCA(100000, Nauto, 25,2)\n",
    "#ChimpY_r1 = DistTMRCA(100000, NchrY, 25,2)\n",
    "#ChimpMito_r1 = DistTMRCA(100000, Nmito, 25,2)\n",
    "\n",
    "\n",
    "#ChimpAuto_r1 = DistTMRCA(100000, Nauto, 25)\n",
    "#ChimpY_r1 = DistTMRCA(100000, NchrY, 25)\n",
    "#ChimpMito_r1 = DistTMRCA(100000, Nmito, 25)\n",
    "\n",
    "#pickle.dump(ChimpAuto_r1, open(\"ChimpAuto_r1.100K.save\",\"wb\"))\n",
    "#pickle.dump(ChimpY_r1, open(\"ChimpY_r1.100K.save\",\"wb\"))\n",
    "#pickle.dump(ChimpMito_r1, open(\"ChimpMito_r1.100K.save\",\"wb\"))\n",
    "\n",
    "\n",
    "Nauto = 56300 #approx size at last split\n",
    "NchrY, Nmito = effectiveChroms(0.5, Nauto) \n",
    "\n",
    "#ChimpAuto_r05 = DistTMRCA(100000, Nauto, 25)\n",
    "#ChimpY_r05 = DistTMRCA(100000, NchrY, 25)\n",
    "#ChimpMito_r05 = DistTMRCA(100000, Nmito, 25)\n",
    "\n",
    "#pickle.dump(ChimpAuto_r05, open(\"ChimpAuto_r05.100K.save\",\"wb\"))\n",
    "#pickle.dump(ChimpY_r05, open(\"ChimpY_r05.100K.save\",\"wb\"))\n",
    "#pickle.dump(ChimpMito_r05, open(\"ChimpMito_r05.100K.save\",\"wb\"))"
   ]
  },
  {
   "cell_type": "code",
   "execution_count": 4,
   "metadata": {
    "collapsed": false
   },
   "outputs": [],
   "source": [
    "ChimpAuto_r1 = pickle.load( open( \"/Users/moetjens/Dropbox/KiddLab-Matt/Chimp Manuscript/TMRCA Sampling/ChimpAuto_r1.100K.save\", \"rb\" ))\n",
    "ChimpY_r1 = pickle.load( open( \"/Users/moetjens/Dropbox/KiddLab-Matt/Chimp Manuscript/TMRCA Sampling/ChimpY_r1.100K.save\", \"rb\" ))\n",
    "ChimpMito_r1 = pickle.load( open( \"/Users/moetjens/Dropbox/KiddLab-Matt/Chimp Manuscript/TMRCA Sampling/ChimpMito_r1.100K.save\", \"rb\" ))\n",
    "\n",
    "ChimpAuto_r05 = pickle.load( open( \"/Users/moetjens/Dropbox/KiddLab-Matt/Chimp Manuscript/TMRCA Sampling/ChimpAuto_r05.100K.save\", \"rb\" ))\n",
    "ChimpY_r05 = pickle.load( open( \"/Users/moetjens/Dropbox/KiddLab-Matt/Chimp Manuscript/TMRCA Sampling/ChimpY_r05.100K.save\", \"rb\" ))\n",
    "ChimpMito_r05 = pickle.load( open( \"/Users/moetjens/Dropbox/KiddLab-Matt/Chimp Manuscript/TMRCA Sampling/ChimpMito_r05.100K.save\", \"rb\" ))\n"
   ]
  },
  {
   "cell_type": "code",
   "execution_count": 5,
   "metadata": {
    "collapsed": false
   },
   "outputs": [
    {
     "data": {
      "text/plain": [
       "<matplotlib.text.Text at 0x1029e9050>"
      ]
     },
     "execution_count": 5,
     "metadata": {},
     "output_type": "execute_result"
    },
    {
     "data": {
      "image/png": "[encoded data removed]",
      "text/plain": [
       "<matplotlib.figure.Figure at 0x1043cec10>"
      ]
     },
     "metadata": {},
     "output_type": "display_data"
    }
   ],
   "source": [
    "#merged = pd.DataFrame({'chrY': ChimpY_r1, 'Mito': ChimpMito_r1, 'Auto':ChimpAuto_r1})\n",
    "merged = pd.DataFrame({'chrY': ChimpY_r05, 'Mito': ChimpMito_r05, 'Auto':ChimpAuto_r05})\n",
    "\n",
    "xlim = 8000\n",
    "\n",
    "myTicksX = range(0, xlim,1000)\n",
    "myLimX = [0,xlim] \n",
    "myPlot = merged.plot(kind='hist' , xticks= myTicksX, xlim =myLimX ,alpha=0.75, bins=200, normed = True)\n",
    "\n",
    "myPlot.set_xlabel('Count')\n",
    "myPlot.set_xlabel('TMRCA (kya)')\n",
    "myPlot.set_ylabel('Probability Density')\n",
    "\n",
    "\n",
    "#y = P.normpdf( bins, 420, 58.6)\n",
    "#l = P.plot(bins, y, 'k--', linewidth=1.5)\n",
    "#P.figure"
   ]
  },
  {
   "cell_type": "code",
   "execution_count": 42,
   "metadata": {
    "collapsed": false
   },
   "outputs": [],
   "source": [
    "deltaTMRCA = []\n",
    "for i in range(len(ChimpY_r1)):\n",
    "    deltaTMRCA.append(ChimpMito_r1[i]-ChimpY_r1[i])\n",
    "\n",
    "    \n",
    "deltaTMRCA_r05 = []  \n",
    "for i in range(len(ChimpY_r05)):\n",
    "    deltaTMRCA_r05.append(ChimpMito_r05[i]-ChimpY_r05[i])\n"
   ]
  },
  {
   "cell_type": "code",
   "execution_count": 49,
   "metadata": {
    "collapsed": false
   },
   "outputs": [
    {
     "data": {
      "text/plain": [
       "<matplotlib.text.Text at 0x111b47990>"
      ]
     },
     "execution_count": 49,
     "metadata": {},
     "output_type": "execute_result"
    },
    {
     "data": {
      "image/png": "[encoded data removed]",
      "text/plain": [
       "<matplotlib.figure.Figure at 0x1110f1dd0>"
      ]
     },
     "metadata": {},
     "output_type": "display_data"
    }
   ],
   "source": [
    "delta = pd.DataFrame({'R=0.5': deltaTMRCA_r05})\n",
    "\n",
    "xlim = 2000\n",
    "\n",
    "myTicksX = range(-xlim, xlim,500)\n",
    "myLimX = [-xlim,xlim] \n",
    "myPlot = delta.plot(kind='hist' , xticks= myTicksX, xlim =myLimX ,alpha=0.75, bins=20, normed = True)\n",
    "\n",
    "myPlot.set_xlabel('Count')\n",
    "myPlot.set_xlabel('TMRCA Y - TMRCA M (kya)')\n",
    "myPlot.set_ylabel('Probability Density')\n"
   ]
  },
  {
   "cell_type": "code",
   "execution_count": null,
   "metadata": {
    "collapsed": true
   },
   "outputs": [],
   "source": []
  }
 ],
 "metadata": {
  "kernelspec": {
   "display_name": "Python 2",
   "language": "python",
   "name": "python2"
  },
  "language_info": {
   "codemirror_mode": {
    "name": "ipython",
    "version": 2
   },
   "file_extension": ".py",
   "mimetype": "text/x-python",
   "name": "python",
   "nbconvert_exporter": "python",
   "pygments_lexer": "ipython2",
   "version": "2.7.10"
  }
 },
 "nbformat": 4,
 "nbformat_minor": 0
}
